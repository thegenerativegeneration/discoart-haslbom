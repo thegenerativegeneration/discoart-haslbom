{
  "nbformat": 4,
  "nbformat_minor": 0,
  "metadata": {
    "colab": {
      "name": "discoart-colab-server.ipynb",
      "provenance": [],
      "collapsed_sections": [],
      "machine_shape": "hm",
      "authorship_tag": "ABX9TyPkw/iU57EMJUyO7ytyTgGU",
      "include_colab_link": true
    },
    "kernelspec": {
      "name": "python3",
      "display_name": "Python 3"
    },
    "language_info": {
      "name": "python"
    },
    "accelerator": "GPU",
    "gpuClass": "standard",
    "widgets": {
      "application/vnd.jupyter.widget-state+json": {
        "d1224fd47ccf4bab84ad82dc20a16bb9": {
          "model_module": "@jupyter-widgets/output",
          "model_name": "OutputModel",
          "model_module_version": "1.0.0",
          "state": {
            "_dom_classes": [],
            "_model_module": "@jupyter-widgets/output",
            "_model_module_version": "1.0.0",
            "_model_name": "OutputModel",
            "_view_count": null,
            "_view_module": "@jupyter-widgets/output",
            "_view_module_version": "1.0.0",
            "_view_name": "OutputView",
            "layout": "IPY_MODEL_a60f6cc6860543748dbad07f9f84c8e5",
            "msg_id": "",
            "outputs": [
              {
                "output_type": "display_data",
                "data": {
                  "text/plain": "\u001b[32m⠴\u001b[0m Waiting \u001b[1msummary\u001b[0m... \u001b[38;2;249;38;114m━━━━━━━━━━━━━━━━━━━━━━━━━━━━━━\u001b[0m\u001b[38;5;237m╺\u001b[0m\u001b[38;5;237m━━━━━━━━━\u001b[0m \u001b[32m3/4\u001b[0m \u001b[33m0:00:03\u001b[0m\n",
                  "text/html": "<pre style=\"white-space:pre;overflow-x:auto;line-height:normal;font-family:Menlo,'DejaVu Sans Mono',consolas,'Courier New',monospace\"><span style=\"color: #008000; text-decoration-color: #008000\">⠴</span> Waiting <span style=\"font-weight: bold\">summary</span>... <span style=\"color: #f92672; text-decoration-color: #f92672\">━━━━━━━━━━━━━━━━━━━━━━━━━━━━━━</span><span style=\"color: #3a3a3a; text-decoration-color: #3a3a3a\">╺━━━━━━━━━</span> <span style=\"color: #008000; text-decoration-color: #008000\">3/4</span> <span style=\"color: #808000; text-decoration-color: #808000\">0:00:03</span>\n</pre>\n"
                },
                "metadata": {}
              }
            ]
          }
        },
        "a60f6cc6860543748dbad07f9f84c8e5": {
          "model_module": "@jupyter-widgets/base",
          "model_name": "LayoutModel",
          "model_module_version": "1.2.0",
          "state": {
            "_model_module": "@jupyter-widgets/base",
            "_model_module_version": "1.2.0",
            "_model_name": "LayoutModel",
            "_view_count": null,
            "_view_module": "@jupyter-widgets/base",
            "_view_module_version": "1.2.0",
            "_view_name": "LayoutView",
            "align_content": null,
            "align_items": null,
            "align_self": null,
            "border": null,
            "bottom": null,
            "display": null,
            "flex": null,
            "flex_flow": null,
            "grid_area": null,
            "grid_auto_columns": null,
            "grid_auto_flow": null,
            "grid_auto_rows": null,
            "grid_column": null,
            "grid_gap": null,
            "grid_row": null,
            "grid_template_areas": null,
            "grid_template_columns": null,
            "grid_template_rows": null,
            "height": null,
            "justify_content": null,
            "justify_items": null,
            "left": null,
            "margin": null,
            "max_height": null,
            "max_width": null,
            "min_height": null,
            "min_width": null,
            "object_fit": null,
            "object_position": null,
            "order": null,
            "overflow": null,
            "overflow_x": null,
            "overflow_y": null,
            "padding": null,
            "right": null,
            "top": null,
            "visibility": null,
            "width": null
          }
        }
      }
    }
  },
  "cells": [
    {
      "cell_type": "markdown",
      "metadata": {
        "id": "view-in-github",
        "colab_type": "text"
      },
      "source": [
        "<a href=\"https://colab.research.google.com/github/thegenerativegeneration/discoart-haslbom/blob/feature%2Fadd-colab-server-notebook/discoart_colab_server.ipynb\" target=\"_parent\"><img src=\"https://colab.research.google.com/assets/colab-badge.svg\" alt=\"Open In Colab\"/></a>"
      ]
    },
    {
      "cell_type": "code",
      "execution_count": null,
      "metadata": {
        "id": "Zrr1n5gQqgjC"
      },
      "outputs": [],
      "source": [
        "!nvidia-smi"
      ]
    },
    {
      "cell_type": "code",
      "source": [
        "!pip install discoart -U\n",
        "!pip install pyngrok\n",
        "!git clone https://github.com/jina-ai/discoart.git\n"
      ],
      "metadata": {
        "id": "XLYKR-c7qnKH"
      },
      "execution_count": null,
      "outputs": []
    },
    {
      "cell_type": "code",
      "source": [
        "import inspect\n",
        "import discoart\n",
        "import os"
      ],
      "metadata": {
        "id": "pv5rNSQgroTh"
      },
      "execution_count": 7,
      "outputs": []
    },
    {
      "cell_type": "code",
      "source": [
        "flow_config = os.path.join(os.path.dirname(inspect.getfile(discoart)), 'resources', 'flow.yml')"
      ],
      "metadata": {
        "id": "4ZIbSDqHr7Fv"
      },
      "execution_count": 10,
      "outputs": []
    },
    {
      "cell_type": "code",
      "source": [
        "from jina import Flow\n",
        "from discoart.executors import DiscoArtExecutor, ResultPoller\n",
        "\n",
        "\n",
        "# replace flow config by custom if you want e.g. non-blocking\n",
        "f = Flow.load_config(flow_config)\n",
        "f.start()"
      ],
      "metadata": {
        "colab": {
          "base_uri": "https://localhost:8080/",
          "height": 516,
          "referenced_widgets": [
            "d1224fd47ccf4bab84ad82dc20a16bb9",
            "a60f6cc6860543748dbad07f9f84c8e5"
          ]
        },
        "id": "Nn16tHIwqo9l",
        "outputId": "90c1a8f2-c4a8-4777-db3b-1187f6f20e6e"
      },
      "execution_count": 11,
      "outputs": [
        {
          "output_type": "display_data",
          "data": {
            "text/plain": [
              "Output()"
            ],
            "application/vnd.jupyter.widget-view+json": {
              "version_major": 2,
              "version_minor": 0,
              "model_id": "d1224fd47ccf4bab84ad82dc20a16bb9"
            }
          },
          "metadata": {}
        },
        {
          "output_type": "display_data",
          "data": {
            "text/plain": [
              "\u001b[32mDEBUG \u001b[0m \u001b[2mdiscoart/rep-\u001b[0m\u001b[1;2;36m0\u001b[0m\u001b[2m@\u001b[0m\u001b[1;2;36m91\u001b[0m ready and listening                                                    \u001b[2m[07/23/22 20:18:10]\u001b[0m\n"
            ],
            "text/html": [
              "<pre style=\"white-space:pre;overflow-x:auto;line-height:normal;font-family:Menlo,'DejaVu Sans Mono',consolas,'Courier New',monospace\"><span style=\"color: #008000; text-decoration-color: #008000\">DEBUG </span> <span style=\"color: #7f7f7f; text-decoration-color: #7f7f7f\">discoart/rep-</span><span style=\"color: #7fbfbf; text-decoration-color: #7fbfbf; font-weight: bold\">0</span><span style=\"color: #7f7f7f; text-decoration-color: #7f7f7f\">@</span><span style=\"color: #7fbfbf; text-decoration-color: #7fbfbf; font-weight: bold\">91</span> ready and listening                                                    <span style=\"color: #7f7f7f; text-decoration-color: #7f7f7f\">[07/23/22 20:18:10]</span>\n",
              "</pre>\n"
            ]
          },
          "metadata": {}
        },
        {
          "output_type": "display_data",
          "data": {
            "text/plain": [
              "\u001b[32mDEBUG \u001b[0m \u001b[2mpoller/rep-\u001b[0m\u001b[1;2;36m0\u001b[0m\u001b[2m@\u001b[0m\u001b[1;2;36m91\u001b[0m ready and listening                                                      \u001b[2m[07/23/22 20:18:10]\u001b[0m\n"
            ],
            "text/html": [
              "<pre style=\"white-space:pre;overflow-x:auto;line-height:normal;font-family:Menlo,'DejaVu Sans Mono',consolas,'Courier New',monospace\"><span style=\"color: #008000; text-decoration-color: #008000\">DEBUG </span> <span style=\"color: #7f7f7f; text-decoration-color: #7f7f7f\">poller/rep-</span><span style=\"color: #7fbfbf; text-decoration-color: #7fbfbf; font-weight: bold\">0</span><span style=\"color: #7f7f7f; text-decoration-color: #7f7f7f\">@</span><span style=\"color: #7fbfbf; text-decoration-color: #7fbfbf; font-weight: bold\">91</span> ready and listening                                                      <span style=\"color: #7f7f7f; text-decoration-color: #7f7f7f\">[07/23/22 20:18:10]</span>\n",
              "</pre>\n"
            ]
          },
          "metadata": {}
        },
        {
          "output_type": "stream",
          "name": "stderr",
          "text": [
            "INFO:     Waiting for application startup.\n",
            "INFO:     Application startup complete.\n",
            "INFO:     Uvicorn running on http://0.0.0.0:51001 (Press CTRL+C to quit)\n"
          ]
        },
        {
          "output_type": "display_data",
          "data": {
            "text/plain": [
              "\u001b[32mDEBUG \u001b[0m \u001b[2mgateway/rep-\u001b[0m\u001b[1;2;36m0\u001b[0m\u001b[2m@\u001b[0m\u001b[1;2;36m91\u001b[0m ready and listening                                                     \u001b[2m[07/23/22 20:18:10]\u001b[0m\n"
            ],
            "text/html": [
              "<pre style=\"white-space:pre;overflow-x:auto;line-height:normal;font-family:Menlo,'DejaVu Sans Mono',consolas,'Courier New',monospace\"><span style=\"color: #008000; text-decoration-color: #008000\">DEBUG </span> <span style=\"color: #7f7f7f; text-decoration-color: #7f7f7f\">gateway/rep-</span><span style=\"color: #7fbfbf; text-decoration-color: #7fbfbf; font-weight: bold\">0</span><span style=\"color: #7f7f7f; text-decoration-color: #7f7f7f\">@</span><span style=\"color: #7fbfbf; text-decoration-color: #7fbfbf; font-weight: bold\">91</span> ready and listening                                                     <span style=\"color: #7f7f7f; text-decoration-color: #7f7f7f\">[07/23/22 20:18:10]</span>\n",
              "</pre>\n"
            ]
          },
          "metadata": {}
        },
        {
          "output_type": "display_data",
          "data": {
            "text/plain": [
              "\u001b[92m─────────────────────────────────────────── \u001b[0m🎉 Flow is ready to serve!\u001b[92m ────────────────────────────────────────────\u001b[0m\n",
              "╭────────────── 🔗 \u001b[1mEndpoint\u001b[0m ───────────────╮\n",
              "│  ⛓      Protocol                   HTTP  │\n",
              "│  🏠        Local          \u001b]8;id=89837;http://0.0.0.0:51001\u001b\\\u001b[1;92m0.0.0.0\u001b[0m\u001b]8;;\u001b\\\u001b]8;id=675340;http://0.0.0.0:51001\u001b\\:\u001b]8;;\u001b\\\u001b]8;id=508296;http://0.0.0.0:51001\u001b\\\u001b[1;36m51001\u001b[0m\u001b]8;;\u001b\\  │\n",
              "│  🔒      Private       \u001b]8;id=914510;http://172.28.0.2:51001\u001b\\\u001b[1;92m172.28.0.2\u001b[0m\u001b]8;;\u001b\\\u001b]8;id=617415;http://172.28.0.2:51001\u001b\\:\u001b]8;;\u001b\\\u001b]8;id=672957;http://172.28.0.2:51001\u001b\\\u001b[1;36m51001\u001b[0m\u001b]8;;\u001b\\  │\n",
              "│  🌍       Public     \u001b]8;id=810977;http://34.91.52.141:51001\u001b\\\u001b[1;92m34.91.52.141\u001b[0m\u001b]8;;\u001b\\\u001b]8;id=932845;http://34.91.52.141:51001\u001b\\:\u001b]8;;\u001b\\\u001b]8;id=23263;http://34.91.52.141:51001\u001b\\\u001b[1;36m51001\u001b[0m\u001b]8;;\u001b\\  │\n",
              "╰──────────────────────────────────────────╯\n",
              "╭─────────── 💎 \u001b[1mHTTP extension\u001b[0m ────────────╮\n",
              "│  💬          Swagger UI        \u001b[33m...\u001b[0m\u001b[35m/\u001b[0m\u001b[95mdocs\u001b[0m  │\n",
              "│  📚               Redoc       \u001b[33m...\u001b[0m\u001b[35m/\u001b[0m\u001b[95mredoc\u001b[0m  │\n",
              "╰──────────────────────────────────────────╯\n",
              "╭──────── 💎 \u001b[1mPrometheus extension\u001b[0m ─────────╮\n",
              "│  🔦           discoart        \u001b[33m...\u001b[0m\u001b[1m:\u001b[0m\u001b[1;36m65300\u001b[0m  │\n",
              "│  🔦             poller        \u001b[33m...\u001b[0m\u001b[1m:\u001b[0m\u001b[1;36m58640\u001b[0m  │\n",
              "│  🔦            gateway        \u001b[33m...\u001b[0m\u001b[1m:\u001b[0m\u001b[1;36m51002\u001b[0m  │\n",
              "╰──────────────────────────────────────────╯\n"
            ],
            "text/html": [
              "<pre style=\"white-space:pre;overflow-x:auto;line-height:normal;font-family:Menlo,'DejaVu Sans Mono',consolas,'Courier New',monospace\"><span style=\"color: #00ff00; text-decoration-color: #00ff00\">─────────────────────────────────────────── </span>🎉 Flow is ready to serve!<span style=\"color: #00ff00; text-decoration-color: #00ff00\"> ────────────────────────────────────────────</span>\n",
              "╭────────────── 🔗 <span style=\"font-weight: bold\">Endpoint</span> ───────────────╮\n",
              "│  ⛓      Protocol                   HTTP  │\n",
              "│  🏠        Local          <a href=\"http://0.0.0.0:51001\" target=\"_blank\"><span style=\"color: #00ff00; text-decoration-color: #00ff00; font-weight: bold\">0.0.0.0</span></a><a href=\"http://0.0.0.0:51001\" target=\"_blank\">:</a><a href=\"http://0.0.0.0:51001\" target=\"_blank\"><span style=\"color: #008080; text-decoration-color: #008080; font-weight: bold\">51001</span></a>  │\n",
              "│  🔒      Private       <a href=\"http://172.28.0.2:51001\" target=\"_blank\"><span style=\"color: #00ff00; text-decoration-color: #00ff00; font-weight: bold\">172.28.0.2</span></a><a href=\"http://172.28.0.2:51001\" target=\"_blank\">:</a><a href=\"http://172.28.0.2:51001\" target=\"_blank\"><span style=\"color: #008080; text-decoration-color: #008080; font-weight: bold\">51001</span></a>  │\n",
              "│  🌍       Public     <a href=\"http://34.91.52.141:51001\" target=\"_blank\"><span style=\"color: #00ff00; text-decoration-color: #00ff00; font-weight: bold\">34.91.52.141</span></a><a href=\"http://34.91.52.141:51001\" target=\"_blank\">:</a><a href=\"http://34.91.52.141:51001\" target=\"_blank\"><span style=\"color: #008080; text-decoration-color: #008080; font-weight: bold\">51001</span></a>  │\n",
              "╰──────────────────────────────────────────╯\n",
              "╭─────────── 💎 <span style=\"font-weight: bold\">HTTP extension</span> ────────────╮\n",
              "│  💬          Swagger UI        <span style=\"color: #808000; text-decoration-color: #808000\">...</span><span style=\"color: #800080; text-decoration-color: #800080\">/</span><span style=\"color: #ff00ff; text-decoration-color: #ff00ff\">docs</span>  │\n",
              "│  📚               Redoc       <span style=\"color: #808000; text-decoration-color: #808000\">...</span><span style=\"color: #800080; text-decoration-color: #800080\">/</span><span style=\"color: #ff00ff; text-decoration-color: #ff00ff\">redoc</span>  │\n",
              "╰──────────────────────────────────────────╯\n",
              "╭──────── 💎 <span style=\"font-weight: bold\">Prometheus extension</span> ─────────╮\n",
              "│  🔦           discoart        <span style=\"color: #808000; text-decoration-color: #808000\">...</span><span style=\"font-weight: bold\">:</span><span style=\"color: #008080; text-decoration-color: #008080; font-weight: bold\">65300</span>  │\n",
              "│  🔦             poller        <span style=\"color: #808000; text-decoration-color: #808000\">...</span><span style=\"font-weight: bold\">:</span><span style=\"color: #008080; text-decoration-color: #008080; font-weight: bold\">58640</span>  │\n",
              "│  🔦            gateway        <span style=\"color: #808000; text-decoration-color: #808000\">...</span><span style=\"font-weight: bold\">:</span><span style=\"color: #008080; text-decoration-color: #008080; font-weight: bold\">51002</span>  │\n",
              "╰──────────────────────────────────────────╯\n",
              "</pre>\n"
            ]
          },
          "metadata": {}
        },
        {
          "output_type": "display_data",
          "data": {
            "text/plain": [
              ""
            ],
            "text/html": [
              "<pre style=\"white-space:pre;overflow-x:auto;line-height:normal;font-family:Menlo,'DejaVu Sans Mono',consolas,'Courier New',monospace\"></pre>\n"
            ]
          },
          "metadata": {}
        },
        {
          "output_type": "display_data",
          "data": {
            "text/plain": [
              "\n"
            ],
            "text/html": [
              "<pre style=\"white-space:pre;overflow-x:auto;line-height:normal;font-family:Menlo,'DejaVu Sans Mono',consolas,'Courier New',monospace\">\n",
              "</pre>\n"
            ]
          },
          "metadata": {}
        },
        {
          "output_type": "display_data",
          "data": {
            "text/plain": [
              "<IPython.core.display.Image object>"
            ],
            "text/html": [
              "<img src=\"https://mermaid.ink/svg/ICAgICAgICAgICAgJSV7aW5pdDp7ICAidGhlbWUiOiAiYmFzZSIsICAidGhlbWVWYXJpYWJsZXMiOiB7ICAgICAgInByaW1hcnlDb2xvciI6ICIjZmZmIiwgICAgICAicHJpbWFyeUJvcmRlckNvbG9yIjogIiNmZmYiLCAgICAgICJtYWluQmtnIjogIiMzMkM4Q0QiLCAgICAgICJjbHVzdGVyQmtnIjogIiNFRUVERTc4QyIsICAgICAgInNlY29uZGFyeUJvcmRlckNvbG9yIjogIm5vbmUiLCAgICAgICJ0ZXJ0aWFyeUJvcmRlckNvbG9yIjogIm5vbmUiLCAgICAgICJsaW5lQ29sb3IiOiAiI2E2ZDhkYSIgICAgICB9fX0lJSAgICAgICAgICAgIApmbG93Y2hhcnQgTFI7CnN1YmdyYXBoIGRpc2NvYXJ0OwoKZGlyZWN0aW9uIExSOwoKZGlzY29hcnQvcmVwLTBbIiJEaXNjb0FydEV4ZWN1dG9yIiJdOjo6cG9kOwplbmQ7CnN1YmdyYXBoIHBvbGxlcjsKCmRpcmVjdGlvbiBMUjsKCnBvbGxlci9yZXAtMFsiIlJlc3VsdFBvbGxlciIiXTo6OnBvZDsKZW5kOwpnYXRld2F5c3RhcnRbZ2F0ZXdheV06OjpHQVRFV0FZIC0tPiBkaXNjb2FydDo6OkRFUExPWU1FTlQ7CmRpc2NvYXJ0Ojo6REVQTE9ZTUVOVCAtLT4gcG9sbGVyOjo6REVQTE9ZTUVOVDsKcG9sbGVyOjo6REVQTE9ZTUVOVCAtLT4gZ2F0ZXdheWVuZFtnYXRld2F5XTo6OkdBVEVXQVk7CmNsYXNzRGVmIElOU1BFQ1Qgc3Ryb2tlOiNGMjlDOUYKY2xhc3NEZWYgSk9JTl9JTlNQRUNUIHN0cm9rZTojRjI5QzlGCmNsYXNzRGVmIEdBVEVXQVkgZmlsbDpub25lLGNvbG9yOiMwMDAsc3Ryb2tlOm5vbmUKY2xhc3NEZWYgSU5TUEVDVF9BVVhfUEFTUyBzdHJva2UtZGFzaGFycmF5OiAyIDIKY2xhc3NEZWYgSEVBRFRBSUwgZmlsbDojMzJDOENEMUQKCmNsYXNzRGVmIEVYVEVSTkFMIGZpbGw6I2ZmZixzdHJva2U6IzMyQzhDRA==\"/>"
            ]
          },
          "metadata": {}
        }
      ]
    },
    {
      "cell_type": "code",
      "source": [
        "!ngrok http 51001 --log \"stdout\""
      ],
      "metadata": {
        "colab": {
          "base_uri": "https://localhost:8080/"
        },
        "id": "9KPamjSiqvYb",
        "outputId": "e650a022-de9c-4a73-aef2-239f5a3c08e5"
      },
      "execution_count": null,
      "outputs": [
        {
          "output_type": "stream",
          "name": "stdout",
          "text": [
            "\u001b[32mINFO\u001b[0m[07-23|20:18:43] no configuration paths supplied \n",
            "\u001b[32mINFO\u001b[0m[07-23|20:18:43] using configuration at default config path \u001b[32mpath\u001b[0m=/root/.ngrok2/ngrok.yml\n",
            "\u001b[32mINFO\u001b[0m[07-23|20:18:43] open config file                         \u001b[32mpath\u001b[0m=/root/.ngrok2/ngrok.yml \u001b[32merr\u001b[0m=nil\n",
            "t=2022-07-23T20:18:43+0000 lvl=info msg=\"starting web service\" obj=web addr=127.0.0.1:4040\n",
            "t=2022-07-23T20:18:43+0000 lvl=info msg=\"tunnel session started\" obj=tunnels.session\n",
            "t=2022-07-23T20:18:43+0000 lvl=info msg=\"client session established\" obj=csess id=0b255d6caf70\n",
            "t=2022-07-23T20:18:44+0000 lvl=info msg=\"started tunnel\" obj=tunnels name=\"command_line (http)\" addr=http://localhost:51001 url=http://b007-34-91-52-141.ngrok.io\n",
            "t=2022-07-23T20:18:44+0000 lvl=info msg=\"started tunnel\" obj=tunnels name=command_line addr=http://localhost:51001 url=https://b007-34-91-52-141.ngrok.io\n"
          ]
        }
      ]
    },
    {
      "cell_type": "code",
      "source": [
        "f.close()"
      ],
      "metadata": {
        "id": "FJrD28gwqyJC"
      },
      "execution_count": null,
      "outputs": []
    }
  ]
}